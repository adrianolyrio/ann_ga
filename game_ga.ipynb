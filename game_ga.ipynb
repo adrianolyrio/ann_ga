{
 "cells": [
  {
   "cell_type": "code",
   "execution_count": 1,
   "metadata": {},
   "outputs": [
    {
     "name": "stdout",
     "output_type": "stream",
     "text": [
      "pygame 2.0.1 (SDL 2.0.14, Python 3.8.5)\n",
      "Hello from the pygame community. https://www.pygame.org/contribute.html\n",
      "Tensorflow Version: 2.3.0\n"
     ]
    }
   ],
   "source": [
    "import numpy as np\n",
    "import pandas as pd\n",
    "import pygame as pg\n",
    "import random\n",
    "import matplotlib.pyplot as plt\n",
    "from IPython.display import display, clear_output\n",
    "# Tensorflow\n",
    "import tensorflow.keras.backend as K\n",
    "# Car Game\n",
    "import race_car\n",
    "# GA with ANN\n",
    "import ann_ga"
   ]
  },
  {
   "cell_type": "markdown",
   "metadata": {},
   "source": [
    "# Variables"
   ]
  },
  {
   "cell_type": "code",
   "execution_count": 2,
   "metadata": {},
   "outputs": [],
   "source": [
    "generations = 1000\n",
    "pop_size = 30\n",
    "best_fitness = 0\n",
    "best_id = 0\n",
    "best_fitness_avg = 0\n",
    "final_reward = 10\n",
    "avg_reward = 0\n",
    "population = []\n",
    "pop_playing = []\n",
    "fitness = []\n",
    "new_population = []\n",
    "best_weights = []\n",
    "tree = []\n",
    "df_players = pd.DataFrame(columns=['GENERATION','ID','REWARD','ANN'])"
   ]
  },
  {
   "cell_type": "markdown",
   "metadata": {},
   "source": [
    "# Start a New Game\n",
    "Inform the size of the population"
   ]
  },
  {
   "cell_type": "code",
   "execution_count": 3,
   "metadata": {},
   "outputs": [],
   "source": [
    "game = race_car.Game(pop_size)\n",
    "game.new()"
   ]
  },
  {
   "cell_type": "markdown",
   "metadata": {},
   "source": [
    "## Game Loop"
   ]
  },
  {
   "cell_type": "code",
   "execution_count": 4,
   "metadata": {},
   "outputs": [
    {
     "data": {
      "text/plain": [
       "'## Generation: 161 ##'"
      ]
     },
     "metadata": {},
     "output_type": "display_data"
    },
    {
     "data": {
      "text/plain": [
       "'- Best Player is 17, with the Fitness 10.061!'"
      ]
     },
     "metadata": {},
     "output_type": "display_data"
    }
   ],
   "source": [
    "# Start game loop\n",
    "for generation in range(generations):\n",
    "    clear_output(wait=True) # clear the Print/Output\n",
    "    if len(population)>0:\n",
    "        display('- Best Player is {0:.0f}, with the Fitness {1:.3f}!'.format(best_id,best_fitness))\n",
    "\n",
    "    display('## Generation: {0:.0f} ##'.format(generation))\n",
    "    if len(population)>0:\n",
    "        display('- Starting Childs from Last Generation - {0:.0f} childs'.format(len(population)))\n",
    "        # Create a child and add to networks\n",
    "        for i in range(5):\n",
    "            # Crossover the best player with others to create 10 childs\n",
    "            child = population[order_fit[0][0]].crossover(population[order_fit[i%4+1][0]])\n",
    "            new_population.append(child[0])\n",
    "            new_population.append(child[1])\n",
    "            tree.append([order_fit[0][0], order_fit[i%4+1][0]]) # to save parent information\n",
    "            tree.append([order_fit[i%4+1][0], order_fit[0][0]])\n",
    "\n",
    "        # Based on weighted list, generate childs - Roulette Wheel Selection\n",
    "        # To fill the size of the population\n",
    "        w_order_fit = population[0].ProbList(order_fit) # Get weighted list of players\n",
    "        for id in range(len(new_population), pop_size):\n",
    "            x = population[0].FChoices(order_fit, w_order_fit, 2)\n",
    "            child = population[x[0][0]].crossover(population[x[1][0]])\n",
    "            new_population.append(child[0])\n",
    "            new_population.append(child[1])\n",
    "            tree.append([x[0][0], x[1][0]])\n",
    "            tree.append([x[1][0], x[0][0]])\n",
    "\n",
    "    # Clear the data for a New Generation\n",
    "    population.clear()\n",
    "    fitness.clear()\n",
    "    pop_playing.clear()\n",
    "    best_fitness = 0\n",
    "\n",
    "    # Create all Neural Networks and Players\n",
    "    display('- Starting New Game...')\n",
    "    for idx, car in enumerate(game.car):\n",
    "        if len(new_population)>0:\n",
    "            population.append(new_population[idx])\n",
    "        else: # First Generation\n",
    "            population.append(ann_ga.GNN(input_size=15, output_size=4))\n",
    "            tree.append([-1, -1])\n",
    "        fitness.append([idx, -999])\n",
    "        pop_playing.append(1)\n",
    "        car.ini() # start each car\n",
    "        \n",
    "    new_population.clear()\n",
    "    display('! Running !')\n",
    "    while sum(pop_playing)>0:# While cars are playing\n",
    "        for idx, car in enumerate(game.car): # Car Updates\n",
    "            if car.playing:\n",
    "                playing, reward, state = car.update() # get the state of the car\n",
    "                action = population[idx].select_action(state) # select the action\n",
    "                car.event(action)\n",
    "                fitness[idx][1] = reward \n",
    "                if reward >= final_reward:\n",
    "                    car.playing = False # Stop - We have our Best Model\n",
    "                if not car.playing:\n",
    "                    pop_playing[idx] = 0 # If the player has lost, I no longer need to update \n",
    "        game.run(sum(pop_playing)) # Run this game step (update screen)\n",
    "    display('- End of this Generation!')\n",
    "    order_fit = sorted(fitness,key=lambda l:l[1], reverse=True)\n",
    "    best_fitness = order_fit[0][1]\n",
    "    best_id = order_fit[0][0]\n",
    "    \n",
    "    display('- Selecting and Saving the Best Player...')\n",
    "    for idx, each in enumerate(order_fit):\n",
    "        if idx<10: # save the 10 firsts\n",
    "            population[each[0]].save_weights(idx)\n",
    "        df_players = df_players.append({'GENERATION':generation, \n",
    "                                        'PARENTS':tree[each[0]], \n",
    "                                        'ID':each[0], \n",
    "                                        'REWARD':each[1], \n",
    "                                        'ANN':population[each[0]].network.get_weights() if idx<10 else None}, \n",
    "                                       ignore_index=True)\n",
    "    \n",
    "    tree.clear() # Clear the Parent Tree\n",
    "    K.clear_session() # Tensorflow memory leak\n",
    "    \n",
    "    if best_fitness >= final_reward: # 10 Consecutive Laps\n",
    "        avg_reward += 1\n",
    "        if avg_reward > 3:\n",
    "            game.running = False\n",
    "    else:\n",
    "        avg_reward = 0\n",
    "\n",
    "    if not game.running:\n",
    "        break\n",
    "\n",
    "# To save information about all Generations\n",
    "population[0].save_history(df_players)\n",
    "\n",
    "clear_output(wait=True) # clear the Print/Output\n",
    "display('## Generation: {0:.0f} ##'.format(generation))\n",
    "display('- Best Player is {0:.0f}, with the Fitness {1:.3f}!'.format(best_id,best_fitness))\n",
    "\n",
    "pg.display.quit()"
   ]
  },
  {
   "cell_type": "code",
   "execution_count": 5,
   "metadata": {},
   "outputs": [
    {
     "data": {
      "text/plain": [
       "<AxesSubplot:xlabel='GENERATION'>"
      ]
     },
     "execution_count": 5,
     "metadata": {},
     "output_type": "execute_result"
    },
    {
     "data": {
      "image/png": "[encoded data removed]",
      "text/plain": [
       "<Figure size 432x288 with 1 Axes>"
      ]
     },
     "metadata": {
      "needs_background": "light"
     },
     "output_type": "display_data"
    }
   ],
   "source": [
    "# Average Reward\n",
    "df_players.groupby(['GENERATION'])[['REWARD']].mean().plot.line()"
   ]
  },
  {
   "cell_type": "code",
   "execution_count": 6,
   "metadata": {
    "scrolled": true
   },
   "outputs": [
    {
     "data": {
      "text/plain": [
       "<AxesSubplot:xlabel='GENERATION'>"
      ]
     },
     "execution_count": 6,
     "metadata": {},
     "output_type": "execute_result"
    },
    {
     "data": {
      "image/png": "[encoded data removed]",
      "text/plain": [
       "<Figure size 432x288 with 1 Axes>"
      ]
     },
     "metadata": {
      "needs_background": "light"
     },
     "output_type": "display_data"
    }
   ],
   "source": [
    "# Best Player of Each Generation\n",
    "df_players.groupby('GENERATION')[['GENERATION','REWARD']].head(1).plot.line(x='GENERATION', y='REWARD')"
   ]
  },
  {
   "cell_type": "code",
   "execution_count": null,
   "metadata": {},
   "outputs": [],
   "source": []
  }
 ],
 "metadata": {
  "kernelspec": {
   "display_name": "Python 3",
   "language": "python",
   "name": "python3"
  },
  "language_info": {
   "codemirror_mode": {
    "name": "ipython",
    "version": 3
   },
   "file_extension": ".py",
   "mimetype": "text/x-python",
   "name": "python",
   "nbconvert_exporter": "python",
   "pygments_lexer": "ipython3",
   "version": "3.8.5"
  }
 },
 "nbformat": 4,
 "nbformat_minor": 4
}
