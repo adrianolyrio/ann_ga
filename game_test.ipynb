{
 "cells": [
  {
   "cell_type": "code",
   "execution_count": 1,
   "metadata": {},
   "outputs": [
    {
     "name": "stdout",
     "output_type": "stream",
     "text": [
      "pygame 2.0.1 (SDL 2.0.14, Python 3.8.5)\n",
      "Hello from the pygame community. https://www.pygame.org/contribute.html\n",
      "Tensorflow Version: 2.3.0\n"
     ]
    }
   ],
   "source": [
    "import pygame as pg\n",
    "# Car Game\n",
    "import race_car\n",
    "# GA with ANN\n",
    "import ann_ga"
   ]
  },
  {
   "cell_type": "markdown",
   "metadata": {},
   "source": [
    "## Create the Neural Network and Load Trained Model"
   ]
  },
  {
   "cell_type": "code",
   "execution_count": 2,
   "metadata": {},
   "outputs": [
    {
     "name": "stdout",
     "output_type": "stream",
     "text": [
      "WARNING:tensorflow:No training configuration found in the save file, so the model was *not* compiled. Compile it manually.\n",
      "Model Loaded!\n",
      "Model: \"sequential_17\"\n",
      "_________________________________________________________________\n",
      "Layer (type)                 Output Shape              Param #   \n",
      "=================================================================\n",
      "dense_51 (Dense)             (None, 16)                256       \n",
      "_________________________________________________________________\n",
      "dense_52 (Dense)             (None, 16)                272       \n",
      "_________________________________________________________________\n",
      "dense_53 (Dense)             (None, 4)                 68        \n",
      "=================================================================\n",
      "Total params: 596\n",
      "Trainable params: 596\n",
      "Non-trainable params: 0\n",
      "_________________________________________________________________\n"
     ]
    }
   ],
   "source": [
    "player = ann_ga.GNN(input_size=15, output_size=4) # create the default neural network\n",
    "player.load_weights(0) # load the trained model. The best is the model 0\n",
    "\n",
    "player.network.summary()"
   ]
  },
  {
   "cell_type": "markdown",
   "metadata": {},
   "source": [
    "### Load the Game\n",
    "\n",
    "game = race_car.Game()\n",
    "\n",
    "Game.New - Options:<br>\n",
    "show_start=[True, False] to Show initial screen<br>\n",
    "show_line=[True, False] to print the car's sensor - only for the best car <br>\n",
    "debug=[True, False] to show all obstacles / squares used in the game"
   ]
  },
  {
   "cell_type": "markdown",
   "metadata": {},
   "source": [
    "-------------------------------------------------------------\n",
    "# To Load the Model to Play\n",
    "To load the model to play game, execute the line below \n",
    "\n",
    "Click on window X to close the game "
   ]
  },
  {
   "cell_type": "code",
   "execution_count": 3,
   "metadata": {},
   "outputs": [],
   "source": [
    "game = race_car.Game()\n",
    "game.new(show_start=False, show_line=True)\n",
    "game.car[0].ini() # start car - 0 to load only one car\n",
    "while game.car[0].playing:\n",
    "    playing, reward, state = game.car[0].update() # get the car state\n",
    "    action = player.select_action(state) # select the action using the model\n",
    "    game.car[0].event(action) # execute the action\n",
    "    game.run()\n",
    "    if not game.running:\n",
    "        break\n",
    "game.running = False\n",
    "pg.display.quit()"
   ]
  },
  {
   "cell_type": "markdown",
   "metadata": {},
   "source": [
    "---------------------------------\n",
    "# Load the Game and Play using Key Arrows\n",
    "UP and DOWN Arrows to Accelerate and Break<br>\n",
    "<- | -> Arrows to Turn <br>\n",
    "Execute the line below <br>\n",
    "\n",
    "Press Q or click on window X to close the game "
   ]
  },
  {
   "cell_type": "code",
   "execution_count": 4,
   "metadata": {},
   "outputs": [],
   "source": [
    "game = race_car.Game()\n",
    "game.new(show_start=True, show_line=True)\n",
    "game.car[0].ini() # start car - 0 to load only one car\n",
    "while game.running:\n",
    "    if game.car[0].playing:\n",
    "        # for manual input\n",
    "        action = 0\n",
    "        for event in pg.event.get():\n",
    "            if event.type == pg.QUIT:\n",
    "                game.running = False\n",
    "            if event.type == pg.KEYDOWN:\n",
    "                if event.key == pg.K_q:\n",
    "                    game.running = False\n",
    "                    \n",
    "        key = pg.key.get_pressed()\n",
    "        if key[pg.K_UP] and key[pg.K_RIGHT]:\n",
    "            action = 4\n",
    "        elif key[pg.K_UP] and key[pg.K_LEFT]:\n",
    "            action = 5\n",
    "        elif key[pg.K_DOWN] and key[pg.K_RIGHT]:\n",
    "            action = 6\n",
    "        elif key[pg.K_DOWN] and key[pg.K_LEFT]:\n",
    "            action = 7\n",
    "        elif key[pg.K_UP]:\n",
    "            action = 0\n",
    "        elif key[pg.K_DOWN]:\n",
    "            action = 1\n",
    "        elif key[pg.K_RIGHT]:\n",
    "            action = 2\n",
    "        elif key[pg.K_LEFT]:\n",
    "            action = 3\n",
    "\n",
    "        game.car[0].update()\n",
    "        game.car[0].event(action)\n",
    "    else:\n",
    "        game.show_game_over()\n",
    "        game.car[0].ini()\n",
    "    game.run()\n",
    "    if not game.running:\n",
    "        break\n",
    "game.running = False\n",
    "pg.display.quit()"
   ]
  },
  {
   "cell_type": "code",
   "execution_count": null,
   "metadata": {},
   "outputs": [],
   "source": []
  }
 ],
 "metadata": {
  "kernelspec": {
   "display_name": "Python 3",
   "language": "python",
   "name": "python3"
  },
  "language_info": {
   "codemirror_mode": {
    "name": "ipython",
    "version": 3
   },
   "file_extension": ".py",
   "mimetype": "text/x-python",
   "name": "python",
   "nbconvert_exporter": "python",
   "pygments_lexer": "ipython3",
   "version": "3.8.5"
  }
 },
 "nbformat": 4,
 "nbformat_minor": 4
}
